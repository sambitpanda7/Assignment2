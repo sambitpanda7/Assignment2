{
 "cells": [
  {
   "cell_type": "code",
   "execution_count": 13,
   "metadata": {},
   "outputs": [
    {
     "name": "stdout",
     "output_type": "stream",
     "text": [
      "D\n"
     ]
    }
   ],
   "source": [
    "#Ans1.\n",
    "percentage=int(input(\"enter a number\"))\n",
    "if percentage>90:\n",
    "    print(\"A\")\n",
    "elif percentage>80 and percentage<=90:\n",
    "    print(\"B\")\n",
    "elif percentage>=60 and percentage<=80:\n",
    "    print(\"C\")\n",
    "elif percentage<60:\n",
    "    print(\"D\")\n"
   ]
  },
  {
   "cell_type": "code",
   "execution_count": 15,
   "metadata": {},
   "outputs": [
    {
     "name": "stdout",
     "output_type": "stream",
     "text": [
      "15% Road tax has to be paid\n"
     ]
    }
   ],
   "source": [
    "#Ans2.\n",
    "cost = int(input(\"enter the cost of the bike\"))\n",
    "if cost>100000:\n",
    "    print(\"15% Road tax has to be paid\")\n",
    "elif cost>50000 and cost<=100000:\n",
    "    print(\"10% Road tax has to be paid\")\n",
    "elif cost <= 50000:\n",
    "    print(\"5% Road tax has to be paid\")\n"
   ]
  },
  {
   "cell_type": "code",
   "execution_count": 23,
   "metadata": {},
   "outputs": [
    {
     "name": "stdout",
     "output_type": "stream",
     "text": [
      "Enter a valid city\n"
     ]
    }
   ],
   "source": [
    "#   Ans3.\n",
    "city = input(\"Enter a city\")\n",
    "\n",
    "if city.upper() == \"DELHI\":\n",
    "\n",
    "   print(\"Red Fort\")\n",
    "\n",
    "elif city.upper() == \"AGRA\":\n",
    "\n",
    "   print(\"Taj Mahal\")\n",
    "\n",
    "elif city.upper() == \"JAIPUR\":\n",
    "\n",
    "   print(\"Jal Mahal\")\n",
    "\n",
    "else:\n",
    "\n",
    "   print(\"Enter a valid city\")"
   ]
  },
  {
   "cell_type": "code",
   "execution_count": 24,
   "metadata": {},
   "outputs": [
    {
     "name": "stdout",
     "output_type": "stream",
     "text": [
      "The given number 100 can be divided by 3 3 times before it becomes less than or equal to 10.\n"
     ]
    }
   ],
   "source": [
    "#Ans4.\n",
    "def divisions_by_3(number):\n",
    "    count = 0\n",
    "    while number > 10:\n",
    "        number /= 3\n",
    "        count += 1\n",
    "    return count\n",
    "\n",
    "given_number = int(input(\"Enter a number: \"))\n",
    "result = divisions_by_3(given_number)\n",
    "print(f\"The given number {given_number} can be divided by 3 {result} times before it becomes less than or equal to 10.\")\n"
   ]
  },
  {
   "cell_type": "code",
   "execution_count": 26,
   "metadata": {},
   "outputs": [
    {
     "name": "stdout",
     "output_type": "stream",
     "text": [
      "1\n",
      "2\n",
      "3\n",
      "4\n",
      "5\n",
      "6\n",
      "7\n",
      "8\n",
      "9\n",
      "10\n",
      "Total money: 100 Rupees\n"
     ]
    }
   ],
   "source": [
    "#Ans5.\n",
    "#Python While Loop is used to execute a block of statements repeatedly until a given condition is satisfied. And when the condition becomes false, the line immediately after the loop in the program is executed.\n",
    "notes=int(input(\"Enter a number\"))\n",
    "i=1\n",
    "while i<=notes:\n",
    "    print(i)\n",
    "    i=i+1\n",
    "print(\"Total money:\",notes*10,\"Rupees\")"
   ]
  },
  {
   "cell_type": "code",
   "execution_count": 30,
   "metadata": {},
   "outputs": [
    {
     "name": "stdout",
     "output_type": "stream",
     "text": [
      "1 \n",
      "1 2 \n",
      "1 2 3 \n",
      "1 2 3 4 \n",
      "1 2 3 4 5 \n"
     ]
    }
   ],
   "source": [
    "#Ans6\n",
    "i=1\n",
    "while i<=5:\n",
    "    j=1\n",
    "    while j<=i:\n",
    "        print(j,end=\" \")\n",
    "        j=j+1\n",
    "    print(\"\")\n",
    "    i=i+1\n",
    "\n"
   ]
  },
  {
   "cell_type": "code",
   "execution_count": 31,
   "metadata": {},
   "outputs": [
    {
     "name": "stdout",
     "output_type": "stream",
     "text": [
      "10\n",
      "9\n",
      "8\n",
      "7\n",
      "6\n",
      "5\n",
      "4\n",
      "3\n",
      "2\n",
      "1\n"
     ]
    }
   ],
   "source": [
    "#Ans7\n",
    "i = 10\n",
    "while i > 0:\n",
    "    print(i)\n",
    "    i = i - 1"
   ]
  },
  {
   "cell_type": "code",
   "execution_count": 32,
   "metadata": {},
   "outputs": [
    {
     "name": "stdout",
     "output_type": "stream",
     "text": [
      "10\n",
      "9\n",
      "8\n",
      "7\n",
      "6\n",
      "5\n",
      "4\n",
      "3\n",
      "2\n",
      "1\n"
     ]
    }
   ],
   "source": [
    "#Ans8\n",
    "i = 10\n",
    "while i > 0:\n",
    "    print(i)\n",
    "    i = i - 1"
   ]
  }
 ],
 "metadata": {
  "kernelspec": {
   "display_name": "Python 3",
   "language": "python",
   "name": "python3"
  },
  "language_info": {
   "codemirror_mode": {
    "name": "ipython",
    "version": 3
   },
   "file_extension": ".py",
   "mimetype": "text/x-python",
   "name": "python",
   "nbconvert_exporter": "python",
   "pygments_lexer": "ipython3",
   "version": "3.11.4"
  },
  "orig_nbformat": 4
 },
 "nbformat": 4,
 "nbformat_minor": 2
}
